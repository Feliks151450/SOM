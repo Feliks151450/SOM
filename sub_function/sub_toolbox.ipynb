{
 "cells": [
  {
   "cell_type": "code",
   "execution_count": 1,
   "metadata": {},
   "outputs": [
    {
     "data": {
      "text/plain": [
       "array([1979, 1980, 1981, 1982, 1983, 1984, 1985, 1986, 1987, 1988, 1989,\n",
       "       1990, 1991, 1992, 1993, 1994, 1995, 1996, 1997, 1998, 1999, 2000,\n",
       "       2001, 2002, 2003, 2004, 2005, 2006, 2007, 2008, 2009, 2010, 2011,\n",
       "       2012, 2013, 2014, 2015, 2016, 2017, 2018])"
      ]
     },
     "execution_count": 1,
     "metadata": {},
     "output_type": "execute_result"
    }
   ],
   "source": [
    "def ispan(start,end,stride = 1):\n",
    "  import numpy as np\n",
    "  n = int((end-start+1)/stride)\n",
    "  ts = [start+stride*i for i in range(0,n)]#range(0,n)最大只能n-1\n",
    "  return np.array(ts)"
   ]
  },
  {
   "cell_type": "code",
   "execution_count": 3,
   "metadata": {},
   "outputs": [],
   "source": [
    "def read_jra55(type,range,opt = True):\n",
    "  # from get_path import *\n",
    "  # from sub_function.get_path import*\n",
    "  import sub_function.get_path as gp\n",
    "  import sub_function.sub_toolbox as tb\n",
    "  import xarray as xr\n",
    "  months = ['J','F','M','A','M','J','J','A','S','O','N','D','J','F','M','A','M','J','J','A','S','O','N','D','J']\n",
    "  \n",
    "  path = gp.readpath(0)+'jra55/relv/'\n",
    "  tem = []\n",
    "  for i in type.year: \n",
    "    var_tem = xr.open_dataset(path+'relv.mn.'+str(i)+'.nc')\n",
    "    var_tem['time'] = tb.ispan(1,12,1)\n",
    "    var_tem0 = var_tem['relv'].loc[type.months,type.level,range[0]:range[1]:-1,range[2]:range[3]]\n",
    "    var_tem0['year'] = i\n",
    "    var_tem0.expand_dims(['year'])\n",
    "    tem.append(var_tem0)\n",
    "  var = xr.concat(tem, dim = 'year')\n",
    "  var0 = var.rename({'time':'month'})\n",
    "  return var0"
   ]
  },
  {
   "cell_type": "code",
   "execution_count": null,
   "metadata": {},
   "outputs": [],
   "source": [
    "def read_ERA5(type,range,opt = True):\n",
    "  import sub_function.get_path as gp\n",
    "  import sub_function.sub_toolbox as tb\n",
    "  import xarray as xr\n",
    "  path = gp.readpath(0)+'ERA5/relv/'\n",
    "  tem = []\n",
    "  for i in type.year: \n",
    "    var_tem = xr.open_dataset(path+'relv.mn.'+str(i)+'.nc')\n",
    "    var_tem['time'] = tb.ispan(1,12,1)\n",
    "    var_tem0 = var_tem['relv'].loc[type.months,type.level,range[0]:range[1]:-1,range[2]:range[3]]\n",
    "    var_tem0['year'] = i\n",
    "    var_tem0.expand_dims(['year'])\n",
    "    tem.append(var_tem0)\n",
    "  var = xr.concat(tem, dim = 'year')\n",
    "  var0 = var.rename({'time':'month'})\n",
    "  return var0"
   ]
  }
 ],
 "metadata": {
  "interpreter": {
   "hash": "bb645f5ac802746a3f918b2fa56e74d680827e4b5eb0b066989188ef382de0a4"
  },
  "kernelspec": {
   "display_name": "Python 3.10.2 ('ncl_stable')",
   "language": "python",
   "name": "python3"
  },
  "language_info": {
   "codemirror_mode": {
    "name": "ipython",
    "version": 3
   },
   "file_extension": ".py",
   "mimetype": "text/x-python",
   "name": "python",
   "nbconvert_exporter": "python",
   "pygments_lexer": "ipython3",
   "version": "3.10.2"
  },
  "orig_nbformat": 4
 },
 "nbformat": 4,
 "nbformat_minor": 2
}
